{
 "cells": [
  {
   "cell_type": "markdown",
   "id": "c4c86f6b",
   "metadata": {},
   "source": [
    "## Code Smells"
   ]
  },
  {
   "cell_type": "markdown",
   "id": "aa7b8ee6",
   "metadata": {},
   "source": [
    "List of bad practices:  \n",
    "\n",
    "    - Duplicate code.  \n",
    "    - Magic numbers.  \n",
    "    - No Pep8 standars.  \n",
    "    - Prints as logs.(leave the print for debugging)  \n",
    "    - Death code.  \n",
    "    - Functions not self meaning.\n",
    "    - Variables without self meaning.\n",
    "    - Clases that should just be funcitons or Modules"
   ]
  },
  {
   "cell_type": "markdown",
   "id": "d91981a5",
   "metadata": {},
   "source": [
    "### Duplicate Code\n",
    "\n",
    "The most common code smell is duplicate code. (we should try always to avoid it)"
   ]
  },
  {
   "cell_type": "code",
   "execution_count": 1,
   "id": "bad13a4b",
   "metadata": {},
   "outputs": [
    {
     "name": "stdout",
     "output_type": "stream",
     "text": [
      "Good morning!\n",
      "How are you feeling?\n",
      "fine\n",
      "I am happy to hear that you are feeling fine.\n",
      "Good afternoon!\n",
      "How are you feeling?\n",
      "fine \n",
      "I am happy to hear that you are feeling fine .\n",
      "Good evening!\n",
      "How are you feeling?\n",
      "fine\n",
      "I am happy to hear that you are feeling fine.\n"
     ]
    }
   ],
   "source": [
    "print('Good morning!')\n",
    "print('How are you feeling?')\n",
    "feeling = input()\n",
    "print('I am happy to hear that you are feeling ' + feeling + '.')\n",
    "print('Good afternoon!')\n",
    "print('How are you feeling?')\n",
    "feeling = input()\n",
    "print('I am happy to hear that you are feeling ' + feeling + '.')\n",
    "print('Good evening!')\n",
    "print('How are you feeling?')\n",
    "feeling = input()\n",
    "print('I am happy to hear that you are feeling ' + feeling + '.')"
   ]
  },
  {
   "cell_type": "code",
   "execution_count": 6,
   "id": "053b79fe",
   "metadata": {},
   "outputs": [],
   "source": [
    "def ask_feeling_at_time(time):\n",
    "    print(f\"Good {time} !\")\n",
    "    print(\"how are you feeling\")\n",
    "    feeling = input()\n",
    "    if feeling.lower() not in [\"bad\", \"I´m bad\"]:\n",
    "        print('I am happy to hear that you are feeling ' + feeling + '.')\n",
    "    else:\n",
    "        print(\"things will be better.\")\n",
    "    "
   ]
  },
  {
   "cell_type": "code",
   "execution_count": 9,
   "id": "40422c7e",
   "metadata": {},
   "outputs": [
    {
     "name": "stdout",
     "output_type": "stream",
     "text": [
      "Good morning !\n",
      "how are you feeling\n",
      "good\n",
      "I am happy to hear that you are feeling good.\n",
      "Good afternoon !\n",
      "how are you feeling\n",
      "so good\n",
      "I am happy to hear that you are feeling so good.\n",
      "Good evening !\n",
      "how are you feeling\n",
      "bad\n",
      "things will be better.\n"
     ]
    }
   ],
   "source": [
    "ask_feeling_at_time(\"morning\")\n",
    "ask_feeling_at_time(\"afternoon\")\n",
    "ask_feeling_at_time(\"evening\")"
   ]
  },
  {
   "cell_type": "markdown",
   "id": "69e4578e",
   "metadata": {},
   "source": [
    "#### but even better"
   ]
  },
  {
   "cell_type": "code",
   "execution_count": 8,
   "id": "438a4368",
   "metadata": {},
   "outputs": [
    {
     "name": "stdout",
     "output_type": "stream",
     "text": [
      "Good morning !\n",
      "how are you feeling\n",
      "good\n",
      "I am happy to hear that you are feeling good.\n",
      "Good afternoon !\n",
      "how are you feeling\n",
      "so good\n",
      "I am happy to hear that you are feeling so good.\n",
      "Good evening !\n",
      "how are you feeling\n",
      "fine\n",
      "I am happy to hear that you are feeling fine.\n"
     ]
    }
   ],
   "source": [
    "for timeOfDay in ['morning', 'afternoon', 'evening']:\n",
    "    ask_feeling_at_time(timeOfDay)"
   ]
  },
  {
   "cell_type": "markdown",
   "id": "e463bdbd",
   "metadata": {},
   "source": [
    "### Avoid Magic Numbers"
   ]
  },
  {
   "cell_type": "code",
   "execution_count": 2,
   "id": "836386fe",
   "metadata": {},
   "outputs": [],
   "source": [
    "import time\n",
    "expiration = time.time() + 604800  # Bad practices"
   ]
  },
  {
   "cell_type": "code",
   "execution_count": 3,
   "id": "e58217d2",
   "metadata": {},
   "outputs": [],
   "source": [
    "# best practices\n",
    "SECONDS_PER_MINUTE = 60\n",
    "SECONDS_PER_HOUR = 60 * SECONDS_PER_MINUTE\n",
    "SECONDS_PER_DAY = 24 * SECONDS_PER_HOUR\n",
    "SECONDS_PER_WEEK = 7 * SECONDS_PER_DAY\n",
    "\n",
    "expiration = time.time() + SECONDS_PER_WEEK"
   ]
  },
  {
   "cell_type": "code",
   "execution_count": null,
   "id": "33813543",
   "metadata": {},
   "outputs": [],
   "source": []
  }
 ],
 "metadata": {
  "kernelspec": {
   "display_name": "Python 3",
   "language": "python",
   "name": "python3"
  },
  "language_info": {
   "codemirror_mode": {
    "name": "ipython",
    "version": 3
   },
   "file_extension": ".py",
   "mimetype": "text/x-python",
   "name": "python",
   "nbconvert_exporter": "python",
   "pygments_lexer": "ipython3",
   "version": "3.8.8"
  }
 },
 "nbformat": 4,
 "nbformat_minor": 5
}
