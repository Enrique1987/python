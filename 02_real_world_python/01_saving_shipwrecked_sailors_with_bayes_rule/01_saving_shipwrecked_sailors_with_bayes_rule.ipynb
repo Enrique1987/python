{
 "cells": [
  {
   "cell_type": "markdown",
   "id": "ee08b888",
   "metadata": {},
   "source": [
    "## Bayes Rule\n",
    "\n",
    "Bayes’ rule shows us the mathematically correct way to incor\u0002porate new data and recalculate probability estimates.It penetrates it penetrates almost all human endeavors.\n",
    "\n",
    "In that exercice we going to use `Bayes’ rule` to help save sailors lost at sea.4\n"
   ]
  },
  {
   "attachments": {},
   "cell_type": "markdown",
   "id": "117f09b5",
   "metadata": {},
   "source": [
    "**P(A/B) = (P(B/A) P(A)) / P(B)**\n",
    "\n",
    "A is the hypotesis\n",
    "B is the data\n",
    "\n",
    "\n",
    "You make a test of HIV and its positive.\n",
    "The test have a 95% accuracity.\n",
    "\n",
    "You could be worried but not in panic, why ?\n",
    "\n",
    "we have 2 possibilities\n",
    "\n",
    "1 We have the virus and the test show a true positive.\n",
    "2 We dont have the HIV and the test is a Fake Positive.\n",
    "\n",
    "\n",
    "applying Bayes \n",
    "\n",
    "P(S|+) = probabilidad of Sick and positive in the test \n",
    "P(S) = probabilidad of Sick  \n",
    "P(+|S) = probabilidad of positive and be sick  \n",
    "P(+) = Probability of positive  "
   ]
  },
  {
   "cell_type": "code",
   "execution_count": null,
   "id": "c9bf5ac6",
   "metadata": {},
   "outputs": [],
   "source": []
  }
 ],
 "metadata": {
  "kernelspec": {
   "display_name": "Python 3",
   "language": "python",
   "name": "python3"
  },
  "language_info": {
   "codemirror_mode": {
    "name": "ipython",
    "version": 3
   },
   "file_extension": ".py",
   "mimetype": "text/x-python",
   "name": "python",
   "nbconvert_exporter": "python",
   "pygments_lexer": "ipython3",
   "version": "3.8.8"
  }
 },
 "nbformat": 4,
 "nbformat_minor": 5
}
