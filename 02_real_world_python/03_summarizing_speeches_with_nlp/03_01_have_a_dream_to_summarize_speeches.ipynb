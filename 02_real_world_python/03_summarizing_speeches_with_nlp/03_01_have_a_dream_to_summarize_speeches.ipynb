{
 "cells": [
  {
   "cell_type": "markdown",
   "id": "5f65fef8",
   "metadata": {},
   "source": [
    "## Summarizing speeches with NLP\n",
    "\n",
    "Acording with International Data Corporation by 2025 we´ll be generatin 175 trillons gigabytes of digital data pro year. But most of this data-up to 95% will be unstructure, wich means it´s not organized into useful databases."
   ]
  },
  {
   "cell_type": "markdown",
   "id": "759f8b1e",
   "metadata": {},
   "source": [
    "- In this notebook we will learn to use the NLTK to geneare a summary of one of the most famouse speeches of all time \"I have a dream\".\n",
    "- After learn the basis we will use gesim to summarize speachs.\n",
    "- Finnaly we will use a word cloud to produce a fun visual summary of the most fequently used words in a novel.\n",
    "\n",
    "In data mining and ml there are two approaches to summarizing text: extraction and abstraction.\n",
    "\n",
    "`Extraction-based:`  Uses various weighting functions to rank sentences by perceveived importance. Words uses more often are considered more important. Consequently, sentences containing those words are considred more important. The overall behavior is like using a yellow highligther to manually select keywords and sentences without altering the text.\n",
    "\n",
    "This technique is good at pulling out important words and phrases.\n",
    "\n",
    "`Abstraction:` Deeper compehension of the document to capture intent and produce more humal-like paraphasing. This includes creating completly new sentences.\n",
    "\n",
    "Abstraction algorithms requred advanced and complicated deep learning methods and sophisticated language modeling."
   ]
  },
  {
   "cell_type": "code",
   "execution_count": null,
   "id": "1a74e9ec",
   "metadata": {},
   "outputs": [],
   "source": []
  }
 ],
 "metadata": {
  "kernelspec": {
   "display_name": "Python 3",
   "language": "python",
   "name": "python3"
  },
  "language_info": {
   "codemirror_mode": {
    "name": "ipython",
    "version": 3
   },
   "file_extension": ".py",
   "mimetype": "text/x-python",
   "name": "python",
   "nbconvert_exporter": "python",
   "pygments_lexer": "ipython3",
   "version": "3.8.8"
  }
 },
 "nbformat": 4,
 "nbformat_minor": 5
}
