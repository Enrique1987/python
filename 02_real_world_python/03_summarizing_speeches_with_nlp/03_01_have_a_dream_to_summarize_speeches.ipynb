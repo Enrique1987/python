{
 "cells": [
  {
   "cell_type": "markdown",
   "id": "5f65fef8",
   "metadata": {},
   "source": [
    "## Summarizing speeches with NLP: I have a dream speech\n",
    "\n",
    "Acording with International Data Corporation by 2025 we´ll be generatin 175 trillons gigabytes of digital data pro year. But most of this data-up to 95% will be unstructure, wich means it´s not organized into useful databases."
   ]
  },
  {
   "cell_type": "markdown",
   "id": "759f8b1e",
   "metadata": {},
   "source": [
    "- In this notebook we will learn to use the NLTK to geneare a summary of one of the most famouse speeches of all time \"I have a dream\".\n",
    "- After learn the basis we will use gesim to summarize speachs.\n",
    "- Finnaly we will use a word cloud to produce a fun visual summary of the most fequently used words in a novel.\n",
    "\n",
    "In data mining and ml there are two approaches to summarizing text: extraction and abstraction.\n",
    "\n",
    "`Extraction-based:`  Uses various weighting functions to rank sentences by perceveived importance. Words uses more often are considered more important. Consequently, sentences containing those words are considred more important. The overall behavior is like using a yellow highligther to manually select keywords and sentences without altering the text.\n",
    "\n",
    "This technique is good at pulling out important words and phrases.\n",
    "\n",
    "`Abstraction:` Deeper compehension of the document to capture intent and produce more humal-like paraphasing. This includes creating completly new sentences.\n",
    "\n",
    "Abstraction algorithms requred advanced and complicated deep learning methods and sophisticated language modeling.\n",
    "\n",
    "#### Pipeline"
   ]
  },
  {
   "cell_type": "markdown",
   "id": "ae4e666d",
   "metadata": {},
   "source": [
    "   1. Point  web page containing the “I Have a Dream” speech.\n",
    "   2. Loads the text as a string\n",
    "   3. Tokenizes the text into words and sentences\n",
    "   4. Removes stop words with no contextual content\n",
    "   5. Counts the remaining words\n",
    "   6. Uses the counts to rank the sentences \n",
    "   7. Displays the highest-ranking sentences\n"
   ]
  },
  {
   "cell_type": "code",
   "execution_count": 1,
   "id": "10536d17",
   "metadata": {},
   "outputs": [],
   "source": [
    "import re\n",
    "import requests\n",
    "import bs4\n",
    "from collections import Counter\n",
    "import nltk\n",
    "from nltk.corpus import stopwords"
   ]
  },
  {
   "cell_type": "code",
   "execution_count": 2,
   "id": "fbfff892",
   "metadata": {},
   "outputs": [],
   "source": [
    "def remove_stop_words(speech_edit):\n",
    "    \"\"\"Remove stop words from string and return string.\"\"\"\n",
    "    stop_words = set(stopwords.words('english'))\n",
    "    speech_edit_no_stop = ''\n",
    "    for word in nltk.word_tokenize(speech_edit):\n",
    "        if word.lower() not in stop_words:\n",
    "            speech_edit_no_stop += word + ' '  \n",
    "    return speech_edit_no_stop"
   ]
  },
  {
   "cell_type": "code",
   "execution_count": 3,
   "id": "c5469a5d",
   "metadata": {},
   "outputs": [],
   "source": [
    "def get_word_freq(speech_edit_no_stop):\n",
    "    \"\"\"Return a dictionary of word frequency in a string.\"\"\"\n",
    "    word_freq = nltk.FreqDist(nltk.word_tokenize(speech_edit_no_stop.lower()))\n",
    "    return word_freq"
   ]
  },
  {
   "cell_type": "code",
   "execution_count": 4,
   "id": "96f7ef44",
   "metadata": {},
   "outputs": [],
   "source": [
    "def score_sentences(speech, word_freq, max_words):\n",
    "    \"\"\"Return dictionary of sentence scores based on word frequency.\"\"\"\n",
    "    sent_scores = dict()\n",
    "    sentences = nltk.sent_tokenize(speech)\n",
    "    for sent in sentences:\n",
    "        sent_scores[sent] = 0\n",
    "        words = nltk.word_tokenize(sent.lower())\n",
    "        sent_word_count = len(words)\n",
    "        if sent_word_count <= int(max_words):\n",
    "            for word in words:\n",
    "                if word in word_freq.keys():\n",
    "                    sent_scores[sent] += word_freq[word]\n",
    "            sent_scores[sent] = sent_scores[sent] / sent_word_count\n",
    "    return sent_scores\n"
   ]
  },
  {
   "cell_type": "code",
   "execution_count": 5,
   "id": "9f140354",
   "metadata": {},
   "outputs": [],
   "source": [
    "url = 'http://www.analytictech.com/mb021/mlk.htm'\n",
    "page = requests.get(url)\n",
    "page.raise_for_status()\n",
    "soup = bs4.BeautifulSoup(page.text, 'html.parser')\n",
    "p_elems = [element.text for element in soup.find_all('p')]\n",
    "speech = ' '.join(p_elems)"
   ]
  },
  {
   "cell_type": "code",
   "execution_count": 6,
   "id": "0dbadce1",
   "metadata": {},
   "outputs": [],
   "source": [
    "pepe = nltk.word_tokenize(speech)"
   ]
  },
  {
   "cell_type": "code",
   "execution_count": 7,
   "id": "3790ab89",
   "metadata": {},
   "outputs": [
    {
     "name": "stdout",
     "output_type": "stream",
     "text": [
      "['I', 'am', 'happy', 'to', 'join', 'with', 'you', 'today', 'in', 'what', 'will', 'go', 'down', 'in', 'history', 'as', 'the', 'greatest', 'demonstration', 'for', 'freedom', 'in', 'the', 'history', 'of', 'our', 'nation', '.', 'Five', 'score', 'years', 'ago', 'a', 'great', 'American', 'in', 'whose', 'symbolic', 'shadow', 'we', 'stand', 'today', 'signed', 'the', 'Emancipation', 'Proclamation', '.', 'This', 'momentous', 'decree', 'came', 'as', 'a', 'great', 'beckoning', 'light', 'of', 'hope', 'to', 'millions', 'of', 'Negro', 'slaves', 'who', 'had', 'been', 'seared', 'in', 'the', 'flames', 'of', 'withering', 'injustice', '.', 'It', 'came', 'as', 'a', 'joyous', 'daybreak', 'to', 'end', 'the', 'long', 'night', 'of', 'their', 'captivity', '.', 'But', 'one', 'hundred', 'years', 'later', 'the', 'Negro', 'is', 'still', 'not', 'free', '.', 'One', 'hundred', 'years', 'later', 'the', 'life', 'of', 'the', 'Negro', 'is', 'still', 'sadly', 'crippled', 'by', 'the', 'manacles', 'of', 'segregation', 'and', 'the', 'chains', 'of', 'discrimination', '.', 'One', 'hundred', 'years', 'later', 'the', 'Negro', 'lives', 'on', 'a', 'lonely', 'island', 'of', 'poverty', 'in', 'the', 'midst', 'of', 'a', 'vast', 'ocean', 'of', 'material', 'prosperity', '.', 'One', 'hundred', 'years', 'later', 'the', 'Negro', 'is', 'still', 'languishing', 'in', 'the', 'comers', 'of', 'American', 'society', 'and', 'finds', 'himself', 'in', 'exile', 'in', 'his', 'own', 'land', '.', 'We', 'all', 'have', 'come', 'to', 'this', 'hallowed', 'spot', 'to', 'remind', 'America', 'of', 'the', 'fierce', 'urgency', 'of', 'now', '.', 'Now', 'is', 'the', 'time', 'to', 'rise', 'from', 'the', 'dark', 'and', 'desolate', 'valley', 'of', 'segregation', 'to', 'the', 'sunlit', 'path', 'of', 'racial', 'justice', '.', 'Now', 'is', 'the', 'time', 'to', 'change', 'racial', 'injustice', 'to', 'the', 'solid', 'rock', 'of', 'brotherhood', '.', 'Now', 'is', 'the', 'time', 'to', 'make', 'justice', 'ring', 'out', 'for', 'all', 'of', 'God', \"'s\", 'children', '.', 'There', 'will', 'be', 'neither', 'rest', 'nor', 'tranquility', 'in', 'America', 'until', 'the', 'Negro', 'is', 'granted', 'citizenship', 'rights', '.', 'We', 'must', 'forever', 'conduct', 'our', 'struggle', 'on', 'the', 'high', 'plane', 'of', 'dignity', 'and', 'discipline', '.', 'We', 'must', 'not', 'allow', 'our', 'creative', 'protest', 'to', 'degenerate', 'into', 'physical', 'violence', '.', 'Again', 'and', 'again', 'we', 'must', 'rise', 'to', 'the', 'majestic', 'heights', 'of', 'meeting', 'physical', 'force', 'with', 'soul', 'force', '.', 'And', 'the', 'marvelous', 'new', 'militarism', 'which', 'has', 'engulfed', 'the', 'Negro', 'community', 'must', 'not', 'lead', 'us', 'to', 'a', 'distrust', 'of', 'all', 'white', 'people', ',', 'for', 'many', 'of', 'our', 'white', 'brothers', 'have', 'evidenced', 'by', 'their', 'presence', 'here', 'today', 'that', 'they', 'have', 'come', 'to', 'realize', 'that', 'their', 'destiny', 'is', 'part', 'of', 'our', 'destiny', '.', 'So', 'even', 'though', 'we', 'face', 'the', 'difficulties', 'of', 'today', 'and', 'tomorrow', 'I', 'still', 'have', 'a', 'dream', '.', 'It', 'is', 'a', 'dream', 'deeply', 'rooted', 'in', 'the', 'American', 'dream', '.', 'I', 'have', 'a', 'dream', 'that', 'one', 'day', 'this', 'nation', 'will', 'rise', 'up', 'and', 'live', 'out', 'the', 'true', 'meaning', 'of', 'its', 'creed', ':', \"'We\", 'hold', 'these', 'truths', 'to', 'be', 'self-evident', ';', 'that', 'all', 'men', 'are', 'created', 'equal', '.', \"''\", 'I', 'have', 'a', 'dream', 'that', 'one', 'day', 'on', 'the', 'red', 'hills', 'of', 'Georgia', 'the', 'sons', 'of', 'former', 'slaves', 'and', 'the', 'sons', 'of', 'former', 'slave', 'owners', 'will', 'be', 'able', 'to', 'sit', 'together', 'at', 'the', 'table', 'of', 'brotherhood', '.', 'I', 'have', 'a', 'dream', 'that', 'one', 'day', 'even', 'the', 'state', 'of', 'Mississippi', ',', 'a', 'state', 'sweltering', 'with', 'the', 'heat', 'of', 'injustice', ',', 'sweltering', 'with', 'the', 'heat', 'of', 'oppression', ',', 'will', 'be', 'transformed', 'into', 'an', 'oasis', 'of', 'freedom', 'and', 'justice', '.', 'I', 'have', 'a', 'dream', 'that', 'little', 'children', 'will', 'one', 'day', 'live', 'in', 'a', 'nation', 'where', 'they', 'will', 'not', 'be', 'judged', 'by', 'the', 'color', 'of', 'their', 'skin', 'but', 'by', 'the', 'content', 'of', 'their', 'character', '.', 'I', 'have', 'a', 'dream', 'today', '.', 'I', 'have', 'a', 'dream', 'that', 'one', 'day', 'down', 'in', 'Alabama', ',', 'with', 'its', 'vicious', 'racists', ',', 'with', 'its', 'Governor', 'having', 'his', 'lips', 'dripping', 'with', 'the', 'words', 'of', 'interposition', 'and', 'nullification', ',', 'one', 'day', 'right', 'there', 'in', 'Alabama', 'little', 'black', 'boys', 'and', 'black', 'girls', 'will', 'be', 'able', 'to', 'join', 'hands', 'with', 'little', 'white', 'boys', 'and', 'white', 'girls', 'as', 'sisters', 'and', 'brothers', '.', 'I', 'have', 'a', 'dream', 'today', '.', 'I', 'have', 'a', 'dream', 'that', 'one', 'day', 'every', 'valley', 'shall', 'be', 'exalted', ',', 'every', 'hill', 'and', 'mountain', 'shall', 'be', 'made', 'low', ',', 'the', 'rough', 'places', 'plains', ',', 'and', 'the', 'crooked', 'places', 'will', 'be', 'made', 'straight', ',', 'and', 'before', 'the', 'Lord', 'will', 'be', 'revealed', ',', 'and', 'all', 'flesh', 'shall', 'see', 'it', 'together', '.', 'This', 'is', 'our', 'hope', '.', 'This', 'is', 'the', 'faith', 'that', 'I', 'go', 'back', 'to', 'the', 'mount', 'with', '.', 'With', 'this', 'faith', 'we', 'will', 'be', 'able', 'to', 'hew', 'out', 'of', 'the', 'mountain', 'of', 'despair', 'a', 'stone', 'of', 'hope', '.', 'With', 'this', 'faith', 'we', 'will', 'be', 'able', 'to', 'transform', 'the', 'genuine', 'discords', 'of', 'our', 'nation', 'into', 'a', 'beautiful', 'symphony', 'of', 'brotherhood', '.', 'With', 'this', 'faith', 'we', 'will', 'be', 'able', 'to', 'work', 'together', ',', 'pray', 'together', ';', 'to', 'struggle', 'together', ',', 'to', 'go', 'to', 'jail', 'together', ',', 'to', 'stand', 'up', 'for', 'freedom', 'forever', ',', ')', 'mowing', 'that', 'we', 'will', 'be', 'free', 'one', 'day', '.', 'And', 'I', 'say', 'to', 'you', 'today', 'my', 'friends', ',', 'let', 'freedom', 'ring', '.', 'From', 'the', 'prodigious', 'hilltops', 'of', 'New', 'Hampshire', ',', 'let', 'freedom', 'ring', '.', 'From', 'the', 'mighty', 'mountains', 'of', 'New', 'York', ',', 'let', 'freedom', 'ring', '.', 'From', 'the', 'mighty', 'Alleghenies', 'of', 'Pennsylvania', '!', 'Let', 'freedom', 'ring', 'from', 'the', 'snow', 'capped', 'Rockies', 'of', 'Colorado', '!', 'Let', 'freedom', 'ring', 'from', 'the', 'curvaceous', 'slopes', 'of', 'California', '!', 'But', 'not', 'only', 'there', ';', 'let', 'freedom', 'ring', 'from', 'the', 'Stone', 'Mountain', 'of', 'Georgia', '!', 'Let', 'freedom', 'ring', 'from', 'Lookout', 'Mountain', 'in', 'Tennessee', '!', 'Let', 'freedom', 'ring', 'from', 'every', 'hill', 'and', 'molehill', 'in', 'Mississippi', '.', 'From', 'every', 'mountainside', ',', 'let', 'freedom', 'ring', '.', 'And', 'when', 'this', 'happens', ',', 'when', 'we', 'allow', 'freedom', 'to', 'ring', ',', 'when', 'we', 'let', 'it', 'ring', 'from', 'every', 'village', 'and', 'hamlet', ',', 'from', 'every', 'state', 'and', 'every', 'city', ',', 'we', 'will', 'be', 'able', 'to', 'speed', 'up', 'that', 'day', 'when', 'all', 'of', 'God', \"'s\", 'children', ',', 'black', 'men', 'and', 'white', 'men', ',', 'Jews', 'and', 'Gentiles', ',', 'Protestants', 'and', 'Catholics', ',', 'will', 'be', 'able', 'to', 'join', 'hands', 'and', 'sing', 'in', 'the', 'words', 'of', 'the', 'old', 'Negro', 'spiritual', ',', '``', 'Free', 'at', 'last', '!', 'Free', 'at', 'last', '!', 'Thank', 'God', 'almighty', ',', 'we', \"'re\", 'free', 'at', 'last', '!', \"''\"]\n"
     ]
    }
   ],
   "source": [
    "print(pepe)"
   ]
  },
  {
   "cell_type": "code",
   "execution_count": 8,
   "id": "4bc8758e",
   "metadata": {},
   "outputs": [],
   "source": [
    "test_text = 'hola juanito    me gustaria invitarte a tomar una cerveza   cuando podrias venir?'"
   ]
  },
  {
   "cell_type": "code",
   "execution_count": 9,
   "id": "b8f65811",
   "metadata": {},
   "outputs": [
    {
     "name": "stdout",
     "output_type": "stream",
     "text": [
      "hola juanito me gustaria invitarte a tomar una cerveza cuando podrias venir?\n"
     ]
    }
   ],
   "source": [
    "speech_2 = re.sub('\\s+', ' ', test_text) \n",
    "print(speech_2)"
   ]
  },
  {
   "cell_type": "code",
   "execution_count": 10,
   "id": "5369e6c0",
   "metadata": {},
   "outputs": [
    {
     "name": "stdout",
     "output_type": "stream",
     "text": [
      "Enter max words per sentence for summary: 3\n",
      "Enter number of sentences for summary: 5\n"
     ]
    }
   ],
   "source": [
    "# Request input.\n",
    "while True:\n",
    "    max_words = input(\"Enter max words per sentence for summary: \")\n",
    "    num_sents = input(\"Enter number of sentences for summary: \")\n",
    "    if max_words.isdigit() and num_sents.isdigit():\n",
    "        break\n",
    "    else:\n",
    "        print(\"\\nInput must be in whole numbers.\\n\")"
   ]
  },
  {
   "cell_type": "code",
   "execution_count": null,
   "id": "d359f82f",
   "metadata": {},
   "outputs": [],
   "source": []
  },
  {
   "cell_type": "code",
   "execution_count": null,
   "id": "1a3dc457",
   "metadata": {},
   "outputs": [],
   "source": []
  }
 ],
 "metadata": {
  "kernelspec": {
   "display_name": "Python 3",
   "language": "python",
   "name": "python3"
  },
  "language_info": {
   "codemirror_mode": {
    "name": "ipython",
    "version": 3
   },
   "file_extension": ".py",
   "mimetype": "text/x-python",
   "name": "python",
   "nbconvert_exporter": "python",
   "pygments_lexer": "ipython3",
   "version": "3.8.8"
  }
 },
 "nbformat": 4,
 "nbformat_minor": 5
}
