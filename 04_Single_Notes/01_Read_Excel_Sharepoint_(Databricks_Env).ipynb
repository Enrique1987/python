{
 "cells": [
  {
   "cell_type": "code",
   "execution_count": null,
   "id": "780f21dc",
   "metadata": {},
   "outputs": [],
   "source": [
    "from office365.runtime.auth.user_credential import UserCredential\n",
    "from office365.sharepoint.client_context import ClientContext\n",
    "from datetime import datetime\n",
    "import pandas as pd\n",
    "import os"
   ]
  },
  {
   "cell_type": "code",
   "execution_count": null,
   "id": "930537c3",
   "metadata": {},
   "outputs": [],
   "source": [
    "\n",
    "TARGET_PATH = \"/dbfs/mnt/my_path/\"\n",
    "\n",
    "\n",
    "# sharepoint credentials.\n",
    "sharepoint_user = dbutils.secrets.get(scope=\"my_scope\", key=\"user\")\n",
    "sharepoint_user_pw = dbutils.secrets.get(scope=\"my_scope\", key=\"-pw\")\n",
    "# sharepoint paths.\n",
    "SITE_URL = \"https://<domain>.sharepoint.com/sites/<your_site>\"\n",
    "SOURCE_URL = \"<your_path>\" # translate your sharpoint url to site + source url woul be one of the most complicates things\n",
    "\n",
    "# COMMAND ----------\n",
    "\n",
    "# open sharepoint connection.\n",
    "ctx = ClientContext(SITE_URL).with_credentials(UserCredential(sharepoint_user, sharepoint_user_pw))\n",
    "\n",
    "dirpath = tempfile.mkdtemp()\n",
    "\n",
    "# download adok.\n",
    "with open(dirpath + '/YourExcel.xlsx', \"wb\") as local_file:\n",
    "    _ = ctx.web.get_file_by_server_relative_path(SOURCE_URL + \"/YourExcel.xlsx\").download(local_file).execute_query()\n",
    "\n",
    "# COMMAND ----------\n",
    "\n",
    "# derive list of HONs already contacted.\n",
    "df = pd.read_excel(dirpath + '/YourExcel.xlsx', sheet_name=\"your_sheet\", engine=\"openpyxl\")\n"
   ]
  }
 ],
 "metadata": {
  "kernelspec": {
   "display_name": "Python 3",
   "language": "python",
   "name": "python3"
  },
  "language_info": {
   "codemirror_mode": {
    "name": "ipython",
    "version": 3
   },
   "file_extension": ".py",
   "mimetype": "text/x-python",
   "name": "python",
   "nbconvert_exporter": "python",
   "pygments_lexer": "ipython3",
   "version": "3.8.8"
  }
 },
 "nbformat": 4,
 "nbformat_minor": 5
}
