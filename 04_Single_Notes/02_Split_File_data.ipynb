{
 "cells": [
  {
   "cell_type": "markdown",
   "id": "ce54180f",
   "metadata": {},
   "source": [
    "### Split audio files"
   ]
  },
  {
   "cell_type": "code",
   "execution_count": 1,
   "id": "425aca88",
   "metadata": {},
   "outputs": [],
   "source": [
    "def split_file_batch(audio_file, input_batch):\n",
    "    \"\"\"Given a file and a batch(how many piece do you want to split the audio) return \n",
    "    as many files as indicated in batch.\"\"\"\n",
    "    with open(audio_file,'rb') as file: # that case is for binary but could be used for any other.\n",
    "        lines = file.readlines()\n",
    "\n",
    "    Batch = input_batch\n",
    "    end = 0\n",
    "    for i in range(1, Batch + 1):\n",
    "        if i == 1:\n",
    "            start = 0\n",
    "        increase = int(len(lines) / Batch)\n",
    "        end = end + increase\n",
    "        with open(\"SplitFile_\" + str(i) + \".mp3\",'wb') as file:\n",
    "            for line in lines[start:end]:\n",
    "                file.write(line)\n",
    "        start = end"
   ]
  },
  {
   "cell_type": "code",
   "execution_count": null,
   "id": "d1a5d548",
   "metadata": {},
   "outputs": [],
   "source": []
  }
 ],
 "metadata": {
  "kernelspec": {
   "display_name": "Python 3",
   "language": "python",
   "name": "python3"
  },
  "language_info": {
   "codemirror_mode": {
    "name": "ipython",
    "version": 3
   },
   "file_extension": ".py",
   "mimetype": "text/x-python",
   "name": "python",
   "nbconvert_exporter": "python",
   "pygments_lexer": "ipython3",
   "version": "3.8.8"
  }
 },
 "nbformat": 4,
 "nbformat_minor": 5
}
