{
 "cells": [
  {
   "cell_type": "markdown",
   "metadata": {},
   "source": [
    "### TASK Add Trim to String Columns\n",
    "It turns out that it has been discovered that the contents of attributes in tables in an ETL process contain blanks at the end.\n",
    "That is, where the content should be \"LH\", instead you find things like \"LH \".\n",
    "\n",
    "The solution is therefore to add the \"trim\" to all string attributes to ensure that whitespace is removed. \n",
    "\n",
    "If type(attribue) == \"object\" then we need to do a trim(attribute).\n",
    "\n",
    "so we need do something like this:\n",
    "\n",
    "Select\n",
    "  trim(column1) as column1,\n",
    "  column2 -- is not string type so we do nothing.\n",
    "  ..\n",
    "  ..\n",
    "  \n",
    "\n",
    "### Problem = Boring Stuff\n",
    "\n",
    "We have a lot of tables and therefore we have a lot of columns(hundre columns pet table) that means that \n",
    "doing this manually is tedious, as we have to see which column is of type string and then add the code trim(column) as column... do this a thousand times.\n",
    "\n",
    "### Solution\n",
    "\n",
    "The solution is to build a python program that does this for us. It will have to identify each attribute of the dataframe and if it is of string type, add the trim prefix, otherwise, it will have to leave it as it is."
   ]
  },
  {
   "cell_type": "code",
   "execution_count": 1,
   "metadata": {
    "application/vnd.databricks.v1+cell": {
     "inputWidgets": {},
     "nuid": "4e695afa-9b63-4c7a-8808-8729604fb5af",
     "showTitle": false,
     "title": ""
    }
   },
   "outputs": [],
   "source": [
    "import io\n",
    "import pandas as pd"
   ]
  },
  {
   "cell_type": "code",
   "execution_count": 2,
   "metadata": {},
   "outputs": [],
   "source": [
    "# df_raw is my input df\n",
    "\n",
    "def return_columns_trim_string(dataframe):\n",
    "    \"\"\"Return list of attribues of the input dataframe, with the\n",
    "       prefix trim(column) as column if the attribues is a string. \n",
    "    \"\"\"\n",
    "    \n",
    "    df_raw = dataframe\n",
    "    columns = []\n",
    "    buf = io.StringIO()\n",
    "    df_raw.info(verbose=True, show_counts=True, buf=buf)\n",
    "    s = buf.getvalue()\n",
    "    lines = [line.split() for line in s.splitlines()[3:-2]]\n",
    "    df_info_final = pd.DataFrame(lines)\n",
    "    \n",
    "    # now we have a dataframe with the cpmtmet of dataframe.info()\n",
    "    for i, row in df_info_final[2:].iterrows():\n",
    "        if row[4] == 'object':\n",
    "            column_right_name = \"trim(\" + row[1] + \") as \" + row[1]\n",
    "        else:\n",
    "             column_right_name = row[1]\n",
    "        columns.append(column_right_name)\n",
    "    \n",
    "    return columns"
   ]
  },
  {
   "cell_type": "markdown",
   "metadata": {},
   "source": [
    "If we are working locally we can export it to a .txt if we are working with notebooks in the cloud then what we have to do is make a print of columns take them to notepad++ remove the \"'\" and replace the comma with \",\\n\" in such a way that it is ordered and we would already have it."
   ]
  },
  {
   "cell_type": "markdown",
   "metadata": {},
   "source": [
    "### End."
   ]
  }
 ],
 "metadata": {
  "application/vnd.databricks.v1+notebook": {
   "dashboards": [],
   "language": "python",
   "notebookMetadata": {
    "mostRecentlyExecutedCommandWithImplicitDF": {
     "commandId": 3044721928796213,
     "dataframes": [
      "_sqldf"
     ]
    },
    "pythonIndentUnit": 2
   },
   "notebookName": "Real_Automatic_Boring_Stuff_Trim_in_String_Columns_Python_version",
   "notebookOrigID": 3044721928796219,
   "widgets": {}
  },
  "kernelspec": {
   "display_name": "Python 3",
   "language": "python",
   "name": "python3"
  },
  "language_info": {
   "codemirror_mode": {
    "name": "ipython",
    "version": 3
   },
   "file_extension": ".py",
   "mimetype": "text/x-python",
   "name": "python",
   "nbconvert_exporter": "python",
   "pygments_lexer": "ipython3",
   "version": "3.8.8"
  }
 },
 "nbformat": 4,
 "nbformat_minor": 1
}
