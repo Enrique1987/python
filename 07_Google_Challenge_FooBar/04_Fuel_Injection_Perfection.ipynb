{
 "cells": [
  {
   "cell_type": "markdown",
   "id": "83ee7567",
   "metadata": {},
   "source": [
    "Fuel Injection Perfection\n",
    "=========================\n",
    "\n",
    "Commander Lambda has asked for your help to refine the automatic quantum antimatter fuel injection system for the LAMBCHOP doomsday device. It's a great chance for you to get a closer look at the LAMBCHOP -- and maybe sneak in a bit of sabotage while you're at it -- so you took the job gladly. \n",
    "\n",
    "Quantum antimatter fuel comes in small pellets, which is convenient since the many moving parts of the LAMBCHOP each need to be fed fuel one pellet at a time. However, minions dump pellets in bulk into the fuel intake. You need to figure out the most efficient way to sort and shift the pellets down to a single pellet at a time"
   ]
  },
  {
   "cell_type": "markdown",
   "id": "6ec89e66",
   "metadata": {},
   "source": [
    "he fuel control mechanisms have three operations: \n",
    "\n",
    "1) Add one fuel pellet  \n",
    "2) Remove one fuel pellet  \n",
    "3) Divide the entire group of fuel pellets by 2 (due to the destructive energy released when a quantum antimatter pellet is cut in half, the safety controls will only allow this to happen if there is an even number of pellets)  "
   ]
  },
  {
   "cell_type": "markdown",
   "id": "5eee6893",
   "metadata": {},
   "source": [
    "Write a function called solution(n) which takes a positive integer as a string and returns the minimum number of operations needed to transform the number of pellets to 1. The fuel intake control panel can only display a number up to 309 digits long, so there won't ever be more pellets than you can express in that many digits"
   ]
  },
  {
   "cell_type": "markdown",
   "id": "1df14c26",
   "metadata": {},
   "source": [
    "solution(4) returns 2: 4 -> 2 -> 1  \n",
    "solution(15) returns 5: 15 -> 16 -> 8 -> 4 -> 2 -> 1"
   ]
  },
  {
   "cell_type": "code",
   "execution_count": 8,
   "id": "c1d9b3b9",
   "metadata": {},
   "outputs": [
    {
     "name": "stdout",
     "output_type": "stream",
     "text": [
      "0\n",
      "8\n"
     ]
    }
   ],
   "source": [
    "print(4 % 2)\n",
    "print(16//2)"
   ]
  },
  {
   "cell_type": "code",
   "execution_count": 1,
   "id": "ebb72329",
   "metadata": {},
   "outputs": [
    {
     "name": "stdout",
     "output_type": "stream",
     "text": [
      "4\n"
     ]
    }
   ],
   "source": [
    "print(min(2+2,3+2))"
   ]
  },
  {
   "cell_type": "code",
   "execution_count": 48,
   "id": "67a6c156",
   "metadata": {},
   "outputs": [
    {
     "name": "stdout",
     "output_type": "stream",
     "text": [
      "False\n"
     ]
    }
   ],
   "source": [
    "print(only_odd_succesor(10))"
   ]
  },
  {
   "cell_type": "code",
   "execution_count": 45,
   "id": "08ff0b9b",
   "metadata": {},
   "outputs": [],
   "source": [
    "def only_odd_succesor(number):\n",
    "    if number % 2 == 0 and number > 1:\n",
    "        number = number//2\n",
    "        return only_odd_succesor(number)\n",
    "    if number == 1:\n",
    "        return True\n",
    "    else:\n",
    "        return False\n",
    "        "
   ]
  },
  {
   "cell_type": "code",
   "execution_count": 56,
   "id": "1491d633",
   "metadata": {},
   "outputs": [],
   "source": [
    "\n",
    "\n",
    "def steps(number):\n",
    "    i = 0\n",
    "    while number > 1:\n",
    "        i += 1\n",
    "        number = number // 2\n",
    "    return i\n",
    "\n",
    "def sum_approach(number):\n",
    "    plus = 0\n",
    "    while only_odd_succesor(number):\n",
    "        plus += 1\n",
    "        number += 1\n",
    "\n",
    "    x = steps(number)   \n",
    "    return x + plus\n",
    "\n",
    "def substract_approach(number):\n",
    "    minus = 0\n",
    "    while only_odd_succesor(number):\n",
    "        minus += 1\n",
    "        number -= 1\n",
    "    y = steps(number)\n",
    "    print(minus, number, y)\n",
    "    return y + minus\n",
    "    \n",
    "def solution(number):\n",
    "    if number % 2 == 0: \n",
    "        num_steps = steps(number)\n",
    "    else:\n",
    "        subscract = substract_approach(number)    \n",
    "        plus = sum_approach(number)\n",
    "        print(plus, subscract)\n",
    "        num_steps = min(subscract, plus)\n",
    "    return num_steps\n"
   ]
  },
  {
   "cell_type": "code",
   "execution_count": 67,
   "id": "4922527f",
   "metadata": {},
   "outputs": [],
   "source": [
    "def solution(n):\n",
    "    count = 0\n",
    "    number = n\n",
    "    while number > 1:\n",
    "        if number % 2 == 0:\n",
    "            number = number // 2\n",
    "        elif number == 3 or number % 4 == 1:\n",
    "            number = number - 1\n",
    "        else:\n",
    "            number = number + 1\n",
    "        count += 1\n",
    "    return count"
   ]
  },
  {
   "cell_type": "code",
   "execution_count": 68,
   "id": "47242d07",
   "metadata": {},
   "outputs": [
    {
     "name": "stdout",
     "output_type": "stream",
     "text": [
      "2\n",
      "5\n"
     ]
    }
   ],
   "source": [
    "print(solution(4))\n",
    "print(solution(15))"
   ]
  },
  {
   "cell_type": "code",
   "execution_count": 64,
   "id": "1b372171",
   "metadata": {},
   "outputs": [
    {
     "name": "stdout",
     "output_type": "stream",
     "text": [
      "4\n",
      "3\n"
     ]
    }
   ],
   "source": [
    "# we test the 9 the best option would be -1 = 8\n",
    "print(solution(10))\n",
    "print(solution(8))"
   ]
  },
  {
   "cell_type": "code",
   "execution_count": 44,
   "id": "c4324988",
   "metadata": {},
   "outputs": [
    {
     "name": "stdout",
     "output_type": "stream",
     "text": [
      "0\n"
     ]
    }
   ],
   "source": []
  },
  {
   "cell_type": "code",
   "execution_count": null,
   "id": "439a8e50",
   "metadata": {},
   "outputs": [],
   "source": []
  }
 ],
 "metadata": {
  "kernelspec": {
   "display_name": "Python 3",
   "language": "python",
   "name": "python3"
  },
  "language_info": {
   "codemirror_mode": {
    "name": "ipython",
    "version": 3
   },
   "file_extension": ".py",
   "mimetype": "text/x-python",
   "name": "python",
   "nbconvert_exporter": "python",
   "pygments_lexer": "ipython3",
   "version": "3.8.8"
  }
 },
 "nbformat": 4,
 "nbformat_minor": 5
}
