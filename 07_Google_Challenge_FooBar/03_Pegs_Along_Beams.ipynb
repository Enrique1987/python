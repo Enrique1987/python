{
 "cells": [
  {
   "cell_type": "markdown",
   "id": "467cab09",
   "metadata": {},
   "source": [
    "Gearing Up for Destruction\n",
    "==========================\n",
    "\n",
    "As Commander Lambda's personal assistant, you've been assigned the task of configuring the LAMBCHOP doomsday device's axial orientation gears. It should be pretty simple -- just add gears to create the appropriate rotation ratio. But the problem is, due to the layout of the LAMBCHOP and the complicated system of beams and pipes supporting it, the pegs that will support the gears are fixed in place.\n",
    "\n",
    "The LAMBCHOP's engineers have given you lists identifying the placement of groups of pegs along various support beams. You need to place a gear on each peg (otherwise the gears will collide with unoccupied pegs). The engineers have plenty of gears in all different sizes stocked up, so you can choose gears of any size, from a radius of 1 on up. Your goal is to build a system where the last gear rotates at twice the rate (in revolutions per minute, or rpm) of the first gear, no matter the direction. Each gear (except the last) touches and turns the gear on the next peg to the right.\n",
    "\n",
    "Given a list of distinct positive integers named pegs representing the location of each peg along the support beam, write a function solution(pegs) which, if there is a solution, returns a list of two positive integers a and b representing the numerator and denominator of the first gear's radius in its simplest form in order to achieve the goal above, such that radius = a/b. The ratio a/b should be greater than or equal to 1. Not all support configurations will necessarily be capable of creating the proper rotation ratio, so if the task is impossible, the function solution(pegs) should return the list [-1, -1].\n",
    "\n",
    "For example, if the pegs are placed at [4, 30, 50], then the first gear could have a radius of 12, the second gear could have a radius of 14, and the last one a radius of 6. Thus, the last gear would rotate twice as fast as the first one. In this case, pegs would be [4, 30, 50] and solution(pegs) should return [12, 1].\n",
    "\n",
    "The list pegs will be given sorted in ascending order and will contain at least 2 and no more than 20 distinct positive integers, all between 1 and 10000 inclusive."
   ]
  },
  {
   "cell_type": "markdown",
   "id": "590d60da",
   "metadata": {},
   "source": [
    "1 - You need to place a gear on each peg(engranaje en cada clavija)\n",
    "\n",
    "2 - The engineers have plenty of gears in all different sizes stocked up, so you can choose gears of any size, from a radius of 1 on up.\n",
    "\n",
    "3 - Your goal is to build a system where the last gear rotates at twice the rate (in revolutions per minute, or rpm) of the first gear, no matter the direction"
   ]
  },
  {
   "cell_type": "code",
   "execution_count": 8,
   "id": "c52130e5",
   "metadata": {},
   "outputs": [],
   "source": [
    "def answer(pegs):\n",
    "    max_num = pegs[1] - pegs[0] - 1\n",
    "    \n",
    "    # we will iterate over the list.\n",
    "    for gear in range(1, max_num):\n",
    "        gear_sizes = [gear]\n",
    "        for peg in range(1, len(pegs)):\n",
    "            gear_sizes.append(pegs[peg] - (pegs[peg-1] + gear_sizes[-1]))\n",
    "\n",
    "        if any(r <= 0 for r in gear_sizes):\n",
    "            continue\n",
    "\n",
    "        if gear == 2 * gear_sizes[-1]:\n",
    "            return [gear, 1]\n",
    "\n",
    "        if gear + 1 == 2 * gear_sizes[-1]:\n",
    "            return [(gear * 3) + 1, 3]\n",
    "        \n",
    "        if gear + 2 == 2 * gear_sizes[-1]:\n",
    "            return [(gear * 3) + 2, 3]\n",
    "\n",
    "    return [-1, -1]"
   ]
  },
  {
   "cell_type": "code",
   "execution_count": 9,
   "id": "aa0f747a",
   "metadata": {},
   "outputs": [
    {
     "data": {
      "text/plain": [
       "[12, 1]"
      ]
     },
     "execution_count": 9,
     "metadata": {},
     "output_type": "execute_result"
    }
   ],
   "source": [
    "answer( [4, 30, 50],)"
   ]
  },
  {
   "cell_type": "code",
   "execution_count": null,
   "id": "62e886cf",
   "metadata": {},
   "outputs": [],
   "source": []
  }
 ],
 "metadata": {
  "kernelspec": {
   "display_name": "Python 3",
   "language": "python",
   "name": "python3"
  },
  "language_info": {
   "codemirror_mode": {
    "name": "ipython",
    "version": 3
   },
   "file_extension": ".py",
   "mimetype": "text/x-python",
   "name": "python",
   "nbconvert_exporter": "python",
   "pygments_lexer": "ipython3",
   "version": "3.8.8"
  }
 },
 "nbformat": 4,
 "nbformat_minor": 5
}
