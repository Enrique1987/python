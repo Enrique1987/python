{
 "cells": [
  {
   "cell_type": "markdown",
   "id": "bf427728",
   "metadata": {},
   "source": [
    "## Challenge Level 2 - 1\n",
    "\n",
    "\n",
    "Keeping track of Commander Lambda's many bunny workers is starting to get tricky. You've been tasked with writing a program to match bunny worker IDs to cell locations.\n",
    "\n",
    "The LAMBCHOP doomsday device takes up much of the interior of Commander Lambda's space station, and as a result the work areas have an unusual layout. They are stacked in a triangular shape, and the bunny workers are given numerical IDs starting from the corner, as follows:\n",
    "\n",
    "| 7  \n",
    "| 4 8  \n",
    "| 2 5 9  \n",
    "| 1 3 6 10  \n",
    "\n",
    "\n",
    "Each cell can be represented as points (x, y), with x being the distance from the vertical wall, and y being the height from the ground. \n",
    "\n",
    "For example, the bunny worker at (1, 1) has ID 1, the bunny worker at (3, 2) has ID 9, and the bunny worker at (2,3) has ID 8. This pattern of numbering continues indefinitely (Commander Lambda has been adding a LOT of workers). \n",
    "\n",
    "Write a function solution(x, y) which returns the worker ID of the bunny at location (x, y). Each value of x and y will be at least 1 and no greater than 100,000. Since the worker ID can be very large, return your solution as a string representation of the number."
   ]
  },
  {
   "cell_type": "markdown",
   "id": "de3f3b71",
   "metadata": {},
   "source": [
    "| 7  \n",
    "| 4 8  \n",
    "| 2 5 9  \n",
    "| 1 3 6 10  \n",
    " \n",
    "\n",
    "\n",
    "| 15  \n",
    "| 7 14    \n",
    "| 4 8 13  \n",
    "| 2 5 9 12  \n",
    "| 1 3 6 10 11  \n",
    "\n",
    "----6---\n",
    "  \n",
    "| 21  \n",
    "| 15 20  \n",
    "| 7  14 19  \n",
    "| 4  8  13 18  \n",
    "| 2  5  9  12 17  \n",
    "| 1  3  6  10 11 16  \n",
    "\n",
    "(4, 4)\n",
    "------------ 7 ----\n",
    "\n",
    "| 28  \n",
    "| 21 27  \n",
    "| 15 20 26  \n",
    "| 7  14 19 25  \n",
    "| 4  8  13 18 24  \n",
    "| 2  5  9  12 17 23  \n",
    "| 1  3  6  10 11 16 22  \n",
    "\n",
    "\n",
    "\n",
    "\n"
   ]
  },
  {
   "cell_type": "markdown",
   "id": "2355c676",
   "metadata": {},
   "source": [
    "### Very inefficient solution O (n^2) * 2"
   ]
  },
  {
   "cell_type": "code",
   "execution_count": 5,
   "id": "3bc77573",
   "metadata": {},
   "outputs": [],
   "source": [
    "def floyd_triangle(hight):\n",
    "    \"\"\"First of all we build a floyd triangle and save it into list format.\"\"\"\n",
    "    start = 1\n",
    "    floyd_list = []\n",
    "    for row in range(1, hight + 1):\n",
    "        row_list = []\n",
    "        for column in range(1, row + 1):       \n",
    "            row_list.append(start)\n",
    "            start = start + 1\n",
    "        floyd_list.append(row_list)\n",
    "\n",
    "    return floyd_list\n",
    "\n",
    "def inverse_floyd(floyd_original):\n",
    "    \"\"\"Reverse of floyd triangle\"\"\"\n",
    "    triangular_shape = []\n",
    "    for row in range(len(floyd_original)):\n",
    "        new_row = []\n",
    "        for row_value in floyd_original:\n",
    "            new_row.append(row_value[-1])\n",
    "            del row_value[-1]\n",
    "        floyd_original.pop(0)\n",
    "        triangular_shape.append(new_row)\n",
    "    \n",
    "    return triangular_shape    \n",
    "\n",
    "def solution(x, y):\n",
    "    \"\"\"Given some chords, calculate the minimum height that the triangle should have,\n",
    "    generate a triangle type floyd, invert it and look for the chord in the triangle.\n",
    "    \"\"\"\n",
    "    hight = (x + y) - 1\n",
    "    floyd_list = floyd_triangle(hight)\n",
    "    triangle_numbers = inverse_floyd(floyd_list)\n",
    "    worker_id = triangle_numbers[y - 1][x - 1]\n",
    "    \n",
    "    return str(worker_id)"
   ]
  },
  {
   "cell_type": "code",
   "execution_count": 7,
   "id": "769e939e",
   "metadata": {},
   "outputs": [
    {
     "name": "stdout",
     "output_type": "stream",
     "text": [
      "1\n",
      "9\n",
      "8\n",
      "96\n",
      "9\n"
     ]
    }
   ],
   "source": [
    "print(solution(1, 1))\n",
    "print(solution(3, 2))\n",
    "print(solution(2, 3))\n",
    "print(solution(5, 10))\n",
    "print(solution(3, 2))\n",
    "#has ID 1, the bunny worker at (3, 2) has ID 9, and the bunny worker at (2,3) has ID 8"
   ]
  },
  {
   "cell_type": "markdown",
   "id": "ba31da83",
   "metadata": {},
   "source": [
    "### Optimal soluon O(1)"
   ]
  },
  {
   "cell_type": "code",
   "execution_count": 25,
   "id": "f8c914ee",
   "metadata": {},
   "outputs": [],
   "source": [
    " def solution(x, y):\n",
    "    work_id =  x + ((x + y - 2) * (x + y - 1) ) / 2\n",
    "    return str(int(work_id))"
   ]
  },
  {
   "cell_type": "code",
   "execution_count": 26,
   "id": "0a16f84c",
   "metadata": {},
   "outputs": [
    {
     "name": "stdout",
     "output_type": "stream",
     "text": [
      "9\n",
      "96\n",
      "1\n"
     ]
    }
   ],
   "source": [
    "print(solution(3, 2))\n",
    "print(solution(5, 10))\n",
    "print(solution(1, 1))"
   ]
  },
  {
   "cell_type": "markdown",
   "id": "8e4bb238",
   "metadata": {},
   "source": [
    "### End."
   ]
  }
 ],
 "metadata": {
  "kernelspec": {
   "display_name": "Python 3",
   "language": "python",
   "name": "python3"
  },
  "language_info": {
   "codemirror_mode": {
    "name": "ipython",
    "version": 3
   },
   "file_extension": ".py",
   "mimetype": "text/x-python",
   "name": "python",
   "nbconvert_exporter": "python",
   "pygments_lexer": "ipython3",
   "version": "3.8.8"
  }
 },
 "nbformat": 4,
 "nbformat_minor": 5
}
