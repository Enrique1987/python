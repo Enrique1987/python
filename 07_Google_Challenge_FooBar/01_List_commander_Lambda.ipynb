{
 "cells": [
  {
   "cell_type": "markdown",
   "id": "a53fc617",
   "metadata": {},
   "source": [
    "Commander Lambda is all about efficiency, including using her the bunny workers for manual labor. But no one's been properly monitoring the labor shifts for a while and they've gotten quite mixed up. You've been given the task of fixing them, but after you wrote up new shifts you realized that some bunny workers had been transferred to a different area and aren't available for their assigned shifts. Manually sorting through each shift list to compare against work area lists will take forever -- remember, Commander Lambda loves efficiency!\n",
    "\n",
    "Given two almost identical lists of worker IDs x and y where one of the lists contains an additional ID, write a function solution(x, y) that compares the lists and returns the additional ID.\n",
    "\n",
    "For example, given the lists x = [13, 5, 6, 2, 5] and y = [5, 2, 5, 13], the function solution(x, y) would return 6 because the list x contains the integer 6 and the list y doesn't. Given the lists x = [14, 27, 1, 4, 2, 50, 3, 1] and y = [2, 4, -4, 3, 1, 1, 14, 27, 50], the function solution(x, y) would return -4 because the list y contains the integer -4 and the list x doesn't.\n",
    "\n",
    "In each test case, the lists x and y will always contain n non-unique integers where n is at least 1 but never more than 99, and one of the lists will contain an additional unique integer which should be returned by the function. The same n non-unique integers will be present on both lists, but they might appear in a different order like in the examples above. Commander Lambda likes to keep the numbers short, so every worker ID will be between -1000 and 1000."
   ]
  },
  {
   "cell_type": "code",
   "execution_count": 1,
   "id": "45caa90c",
   "metadata": {},
   "outputs": [],
   "source": [
    "def juanito(x, y):\n",
    "    raw_result = set(x) ^ set(y)\n",
    "    result = list(raw_result)[0]\n",
    "    return result"
   ]
  },
  {
   "cell_type": "code",
   "execution_count": 2,
   "id": "66b4b35c",
   "metadata": {},
   "outputs": [
    {
     "name": "stdout",
     "output_type": "stream",
     "text": [
      "6\n"
     ]
    }
   ],
   "source": [
    "x = [13, 5, 6, 2, 5]\n",
    "y = [5, 2, 5, 13]\n",
    "\n",
    "print(juanito(x, y))"
   ]
  },
  {
   "cell_type": "code",
   "execution_count": 3,
   "id": "25dea7b2",
   "metadata": {},
   "outputs": [
    {
     "name": "stdout",
     "output_type": "stream",
     "text": [
      "-4\n"
     ]
    }
   ],
   "source": [
    "x = [14, 27, 1, 4, 2, 50, 3, 1] \n",
    "y = [2, 4, -4, 3, 1, 1, 14, 27, 50]\n",
    "\n",
    "print(juanito(x, y))"
   ]
  },
  {
   "cell_type": "code",
   "execution_count": 4,
   "id": "76aaa6c8",
   "metadata": {},
   "outputs": [
    {
     "name": "stdout",
     "output_type": "stream",
     "text": [
      "6\n"
     ]
    }
   ],
   "source": [
    "x = [13, 5, 6, 2, 5]\n",
    "y= [5, 2, 5, 13]\n",
    "print(juanito(x, y))\n",
    "#  6"
   ]
  },
  {
   "cell_type": "markdown",
   "id": "bf427728",
   "metadata": {},
   "source": [
    "\n",
    "Keeping track of Commander Lambda's many bunny workers is starting to get tricky. You've been tasked with writing a program to match bunny worker IDs to cell locations.\n",
    "\n",
    "The LAMBCHOP doomsday device takes up much of the interior of Commander Lambda's space station, and as a result the work areas have an unusual layout. They are stacked in a triangular shape, and the bunny workers are given numerical IDs starting from the corner, as follows:\n",
    "\n",
    "| 7\n",
    "| 4 8\n",
    "| 2 5 9\n",
    "| 1 3 6 10\n",
    "\n",
    "Each cell can be represented as points (x, y), with x being the distance from the vertical wall, and y being the height from the ground. \n",
    "\n",
    "For example, the bunny worker at (1, 1) has ID 1, the bunny worker at (3, 2) has ID 9, and the bunny worker at (2,3) has ID 8. This pattern of numbering continues indefinitely (Commander Lambda has been adding a LOT of workers). \n",
    "\n",
    "Write a function solution(x, y) which returns the worker ID of the bunny at location (x, y). Each value of x and y will be at least 1 and no greater than 100,000. Since the worker ID can be very large, return your solution as a string representation of the number."
   ]
  },
  {
   "cell_type": "markdown",
   "id": "de3f3b71",
   "metadata": {},
   "source": [
    "| 7\n",
    "| 4 8\n",
    "| 2 5 9\n",
    "| 1 3 6 10\n",
    "\n",
    "\n",
    "| 15\n",
    "| 7 14\n",
    "| 4 8 13\n",
    "| 2 5 9 12\n",
    "| 1 3 6 10 11\n",
    "\n",
    "----6---\n",
    "| 21\n",
    "| 15 20\n",
    "| 7  14 19\n",
    "| 4  8  13 18\n",
    "| 2  5  9  12 17\n",
    "| 1  3  6  10 11 16\n",
    "\n",
    "(4, 4)\n",
    "------------ 7  ---\n",
    "| 28\n",
    "| 21 27\n",
    "| 15 20 26\n",
    "| 7  14 19 25\n",
    "| 4  8  13 18 24\n",
    "| 2  5  9  12 17 23\n",
    "| 1  3  6  10 11 16 22\n",
    "\n",
    "\n"
   ]
  },
  {
   "cell_type": "code",
   "execution_count": 5,
   "id": "3bc77573",
   "metadata": {},
   "outputs": [],
   "source": [
    "def floyd_triangle(hight):\n",
    "    \"\"\"First of all we build a floyd triangle and save it into list format.\"\"\"\n",
    "    start = 1\n",
    "    floyd_list = []\n",
    "    for row in range(1, hight + 1):\n",
    "        row_list = []\n",
    "        for column in range(1, row + 1):       \n",
    "            row_list.append(start)\n",
    "            start = start + 1\n",
    "        floyd_list.append(row_list)\n",
    "\n",
    "    return floyd_list\n",
    "\n",
    "def inverse_floyd(floyd_original):\n",
    "    \"\"\"Reverse of floyd triangle\"\"\"\n",
    "    triangular_shape = []\n",
    "    for row in range(len(floyd_original)):\n",
    "        new_row = []\n",
    "        for row_value in floyd_original:\n",
    "            new_row.append(row_value[-1])\n",
    "            del row_value[-1]\n",
    "        floyd_original.pop(0)\n",
    "        triangular_shape.append(new_row)\n",
    "    \n",
    "    return triangular_shape    \n"
   ]
  },
  {
   "cell_type": "code",
   "execution_count": 6,
   "id": "a40fbde2",
   "metadata": {},
   "outputs": [
    {
     "data": {
      "text/plain": [
       "9"
      ]
     },
     "execution_count": 6,
     "metadata": {},
     "output_type": "execute_result"
    }
   ],
   "source": [
    "def solution(x, y):\n",
    "    \"\"\"Given some chords, calculate the minimum height that the triangle should have,\n",
    "    generate a triangle type floyd, invert it and look for the chord in the triangle.\n",
    "    \"\"\"\n",
    "    hight = (x + y) - 1\n",
    "    floyd_list = floyd_triangle(hight)\n",
    "    triangle_numbers = inverse_floyd(floyd_list)\n",
    "    worker_id = triangle_numbers[y - 1][x - 1]\n",
    "    \n",
    "    return worker_id\n",
    "\n",
    "    \n",
    "solution(3, 2)"
   ]
  },
  {
   "cell_type": "code",
   "execution_count": 7,
   "id": "769e939e",
   "metadata": {},
   "outputs": [
    {
     "name": "stdout",
     "output_type": "stream",
     "text": [
      "1\n",
      "9\n",
      "8\n",
      "96\n",
      "9\n"
     ]
    }
   ],
   "source": [
    "print(solution(1, 1))\n",
    "print(solution(3, 2))\n",
    "print(solution(2, 3))\n",
    "print(solution(5, 10))\n",
    "print(solution(3, 2))\n",
    "#has ID 1, the bunny worker at (3, 2) has ID 9, and the bunny worker at (2,3) has ID 8"
   ]
  },
  {
   "cell_type": "code",
   "execution_count": 8,
   "id": "cef31790",
   "metadata": {},
   "outputs": [],
   "source": [
    "def floyd_triangle(hight):\n",
    "    \"\"\"First of all we build a floyd triangle and save it into list format.\"\"\"\n",
    "    start = 1\n",
    "    floyd_list = []\n",
    "    for row in range(1, hight + 1):\n",
    "        row_list = []\n",
    "        for column in range(1, row + 1):       \n",
    "            row_list.append(start)\n",
    "            start = start + 1\n",
    "        floyd_list.append(row_list)\n",
    "\n",
    "    return floyd_list\n",
    "\n",
    "def inverse_floyd(floyd_original):\n",
    "    \"\"\"Reverse of floyd triangle\"\"\"\n",
    "    triangular_shape = []\n",
    "    for row in range(len(floyd_original)):\n",
    "        new_row = []\n",
    "        for row_value in floyd_original:\n",
    "            new_row.append(row_value[-1])\n",
    "            del row_value[-1]\n",
    "        floyd_original.pop(0)\n",
    "        triangular_shape.append(new_row)\n",
    "    \n",
    "    return triangular_shape    \n",
    "\n",
    "def solution(x, y):\n",
    "    \"\"\"Given some chords, calculate the minimum height that the triangle should have,\n",
    "    generate a triangle type floyd, invert it and look for the chord in the triangle.\n",
    "    \"\"\"\n",
    "    hight = (x + y) - 1\n",
    "    floyd_list = floyd_triangle(hight)\n",
    "    triangle_numbers = inverse_floyd(floyd_list)\n",
    "    worker_id = triangle_numbers[y - 1][x - 1]\n",
    "    \n",
    "    return str(worker_id)"
   ]
  },
  {
   "cell_type": "code",
   "execution_count": 25,
   "id": "f8c914ee",
   "metadata": {},
   "outputs": [],
   "source": [
    " def solution(x, y):\n",
    "    work_id =  x + ((x + y - 2) * (x + y - 1) ) / 2\n",
    "    return str(int(work_id))"
   ]
  },
  {
   "cell_type": "code",
   "execution_count": 26,
   "id": "0a16f84c",
   "metadata": {},
   "outputs": [
    {
     "name": "stdout",
     "output_type": "stream",
     "text": [
      "9\n",
      "96\n",
      "1\n"
     ]
    }
   ],
   "source": [
    "print(solution(3, 2))\n",
    "print(solution(5, 10))\n",
    "print(solution(1, 1))"
   ]
  },
  {
   "cell_type": "code",
   "execution_count": 24,
   "id": "367f254c",
   "metadata": {},
   "outputs": [
    {
     "name": "stdout",
     "output_type": "stream",
     "text": [
      "9\n",
      "96\n",
      "1\n"
     ]
    }
   ],
   "source": [
    " def solution(x, y):\n",
    "    work_id =  x + ((x + y - 2) * (x + y - 1) ) / 2\n",
    "    return str(int(work_id))\n",
    "\n",
    "print(solution2(3, 2))\n",
    "print(solution2(5, 10))\n",
    "print(solution2(1, 1))"
   ]
  },
  {
   "cell_type": "code",
   "execution_count": null,
   "id": "9e2ccfa5",
   "metadata": {},
   "outputs": [],
   "source": []
  },
  {
   "cell_type": "code",
   "execution_count": null,
   "id": "fe9bf634",
   "metadata": {},
   "outputs": [],
   "source": []
  },
  {
   "cell_type": "code",
   "execution_count": 11,
   "id": "014b1309",
   "metadata": {},
   "outputs": [
    {
     "name": "stdout",
     "output_type": "stream",
     "text": [
      "[[1], [2, 3], [4, 5, 6], [7, 8, 9, 10]]\n"
     ]
    }
   ],
   "source": [
    "list4 = floyd_triangle(4)\n",
    "print(list4)"
   ]
  },
  {
   "cell_type": "code",
   "execution_count": 12,
   "id": "04b503bf",
   "metadata": {},
   "outputs": [
    {
     "name": "stdout",
     "output_type": "stream",
     "text": [
      "[[1, 3, 6, 10], [2, 5, 9], [4, 8], [7]]\n"
     ]
    }
   ],
   "source": [
    "print(inverse_floyd(list4))"
   ]
  },
  {
   "cell_type": "code",
   "execution_count": 13,
   "id": "260c147d",
   "metadata": {},
   "outputs": [
    {
     "name": "stdout",
     "output_type": "stream",
     "text": [
      "Floyd's Triangle\n",
      "1  \n",
      "2  3  \n",
      "4  5  6  \n",
      "7  8  9  10  \n",
      "[[1], [2, 3], [4, 5, 6], [7, 8, 9, 10]]\n"
     ]
    }
   ],
   "source": [
    "rows = 4\n",
    "number = 1\n",
    "print(\"Floyd's Triangle\")\n",
    "lolo = []\n",
    "for i in range(1, rows + 1):\n",
    "    pepe = []\n",
    "    for j in range(1, i + 1):       \n",
    "        pepe.append(number)\n",
    "        print(number, end = '  ')\n",
    "        number = number + 1\n",
    "    lolo.append(pepe)\n",
    "    print()\n",
    "print(lolo)"
   ]
  },
  {
   "cell_type": "code",
   "execution_count": 14,
   "id": "0b99cd04",
   "metadata": {},
   "outputs": [
    {
     "name": "stdout",
     "output_type": "stream",
     "text": [
      "Floyd's Triangle\n",
      "1  \n",
      "2  3  \n",
      "4  5  6  \n",
      "7  8  9  10  \n",
      "[[1], [2, 3], [4, 5, 6], [7, 8, 9, 10]]\n"
     ]
    }
   ],
   "source": [
    "rows = 4\n",
    "number = 1\n",
    "print(\"Floyd's Triangle\")\n",
    "lolo = []\n",
    "for i in range(1, rows + 1):\n",
    "    pepe = []\n",
    "    for j in range(1, i + 1):       \n",
    "        pepe.append(number)\n",
    "        print(number, end = '  ')\n",
    "        number = number + 1\n",
    "    lolo.append(pepe)\n",
    "    print()\n",
    "print(lolo)"
   ]
  },
  {
   "cell_type": "code",
   "execution_count": 15,
   "id": "0d18be3e",
   "metadata": {},
   "outputs": [
    {
     "name": "stdout",
     "output_type": "stream",
     "text": [
      "[[1, 3, 6, 10], [2, 5, 9], [4, 8], [7]]\n"
     ]
    }
   ],
   "source": [
    "#lolo = [[1], [2, 3], [4, 5, 6], [7, 8, 9, 10]]\n",
    "juanito = []\n",
    "for y in range(len(lolo)):\n",
    "    pepe = []\n",
    "    for x in lolo:\n",
    "        pepe.append(x[-1])\n",
    "        del x[-1]\n",
    "    lolo.pop(0)\n",
    "    juanito.append(pepe)\n",
    "    \n",
    "print(juanito)    \n"
   ]
  },
  {
   "cell_type": "code",
   "execution_count": 16,
   "id": "68723680",
   "metadata": {},
   "outputs": [
    {
     "name": "stdout",
     "output_type": "stream",
     "text": [
      "[7]\n",
      "[4, 8]\n",
      "[2, 5, 9]\n",
      "[1, 3, 6, 10]\n"
     ]
    }
   ],
   "source": [
    " #(1, 1) has ID 1, the bunny worker at (3, 2) has ID 9, and the bunny worker at (2,3) has ID 8\n",
    "for i in reversed(juanito):\n",
    "    print(i)"
   ]
  },
  {
   "cell_type": "code",
   "execution_count": 17,
   "id": "4b4191a5",
   "metadata": {},
   "outputs": [
    {
     "name": "stdout",
     "output_type": "stream",
     "text": [
      "8\n",
      "1\n",
      "9\n"
     ]
    }
   ],
   "source": [
    "print(juanito[3 - 1][2 - 1])\n",
    "print(juanito[0][0])\n",
    "print(juanito[2 - 1][3 - 1])"
   ]
  },
  {
   "cell_type": "code",
   "execution_count": null,
   "id": "faf85d21",
   "metadata": {},
   "outputs": [],
   "source": []
  },
  {
   "cell_type": "code",
   "execution_count": null,
   "id": "a3f27d16",
   "metadata": {},
   "outputs": [],
   "source": []
  },
  {
   "cell_type": "code",
   "execution_count": null,
   "id": "d67155e2",
   "metadata": {},
   "outputs": [],
   "source": []
  },
  {
   "cell_type": "code",
   "execution_count": null,
   "id": "fd3a9ddd",
   "metadata": {},
   "outputs": [],
   "source": []
  },
  {
   "cell_type": "code",
   "execution_count": 18,
   "id": "50116ff8",
   "metadata": {},
   "outputs": [
    {
     "name": "stdout",
     "output_type": "stream",
     "text": [
      "1\n",
      "3\n",
      "6\n",
      "10\n",
      "3\n",
      "6\n",
      "10\n",
      "6\n",
      "10\n",
      "10\n",
      "[10]\n"
     ]
    }
   ],
   "source": [
    "lolo = [[1], [2, 3], [4, 5, 6], [7, 8, 9, 10]]\n",
    "final = []\n",
    "temp_lolo = lolo\n",
    "for x in range(1, len(lolo) + 1):    \n",
    "    juanito = []\n",
    "    for x in temp_lolo:\n",
    "        print(x[-1])\n",
    "        juanito.append(x[-1])\n",
    "    final.append(juanito)\n",
    "    temp_lolo.pop(0)\n",
    "    \n",
    "print(juanito)"
   ]
  },
  {
   "cell_type": "code",
   "execution_count": 19,
   "id": "822a31d1",
   "metadata": {},
   "outputs": [
    {
     "ename": "SyntaxError",
     "evalue": "invalid syntax (<ipython-input-19-9269b0abc4f8>, line 1)",
     "output_type": "error",
     "traceback": [
      "\u001b[1;36m  File \u001b[1;32m\"<ipython-input-19-9269b0abc4f8>\"\u001b[1;36m, line \u001b[1;32m1\u001b[0m\n\u001b[1;33m    def sumatoriy(5):\u001b[0m\n\u001b[1;37m                  ^\u001b[0m\n\u001b[1;31mSyntaxError\u001b[0m\u001b[1;31m:\u001b[0m invalid syntax\n"
     ]
    }
   ],
   "source": [
    "def sumatoriy(5):\n"
   ]
  },
  {
   "cell_type": "code",
   "execution_count": null,
   "id": "aee3bdaf",
   "metadata": {},
   "outputs": [],
   "source": [
    "import math\n",
    "print (math.factorial(6))"
   ]
  },
  {
   "cell_type": "code",
   "execution_count": 27,
   "id": "0c2ee6a7",
   "metadata": {},
   "outputs": [],
   "source": [
    "def solution(x, y):\n",
    "    if x >= 1 and x <= 100000 and y >= 1 and y <= 100000:\n",
    "        work_id =  x + ((x + y - 2) * (x + y - 1) ) / 2\n",
    "    return str(int(work_id))"
   ]
  },
  {
   "cell_type": "code",
   "execution_count": 28,
   "id": "13373e1c",
   "metadata": {},
   "outputs": [
    {
     "name": "stdout",
     "output_type": "stream",
     "text": [
      "8\n",
      "9\n",
      "96\n",
      "1\n"
     ]
    }
   ],
   "source": [
    "print(solution(2, 3))\n",
    "print(solution(3, 2))\n",
    "print(solution(5, 10))\n",
    "print(solution(1, 1))"
   ]
  },
  {
   "cell_type": "code",
   "execution_count": null,
   "id": "a23f387a",
   "metadata": {},
   "outputs": [],
   "source": []
  }
 ],
 "metadata": {
  "kernelspec": {
   "display_name": "Python 3",
   "language": "python",
   "name": "python3"
  },
  "language_info": {
   "codemirror_mode": {
    "name": "ipython",
    "version": 3
   },
   "file_extension": ".py",
   "mimetype": "text/x-python",
   "name": "python",
   "nbconvert_exporter": "python",
   "pygments_lexer": "ipython3",
   "version": "3.8.8"
  }
 },
 "nbformat": 4,
 "nbformat_minor": 5
}
