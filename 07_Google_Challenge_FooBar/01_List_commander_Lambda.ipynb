{
 "cells": [
  {
   "cell_type": "markdown",
   "id": "a53fc617",
   "metadata": {},
   "source": [
    "Commander Lambda is all about efficiency, including using her the bunny workers for manual labor. But no one's been properly monitoring the labor shifts for a while and they've gotten quite mixed up. You've been given the task of fixing them, but after you wrote up new shifts you realized that some bunny workers had been transferred to a different area and aren't available for their assigned shifts. Manually sorting through each shift list to compare against work area lists will take forever -- remember, Commander Lambda loves efficiency!\n",
    "\n",
    "Given two almost identical lists of worker IDs x and y where one of the lists contains an additional ID, write a function solution(x, y) that compares the lists and returns the additional ID.\n",
    "\n",
    "For example, given the lists x = [13, 5, 6, 2, 5] and y = [5, 2, 5, 13], the function solution(x, y) would return 6 because the list x contains the integer 6 and the list y doesn't. Given the lists x = [14, 27, 1, 4, 2, 50, 3, 1] and y = [2, 4, -4, 3, 1, 1, 14, 27, 50], the function solution(x, y) would return -4 because the list y contains the integer -4 and the list x doesn't.\n",
    "\n",
    "In each test case, the lists x and y will always contain n non-unique integers where n is at least 1 but never more than 99, and one of the lists will contain an additional unique integer which should be returned by the function. The same n non-unique integers will be present on both lists, but they might appear in a different order like in the examples above. Commander Lambda likes to keep the numbers short, so every worker ID will be between -1000 and 1000."
   ]
  },
  {
   "cell_type": "code",
   "execution_count": null,
   "id": "45caa90c",
   "metadata": {},
   "outputs": [],
   "source": [
    "def solution(x, y):\n",
    "    raw_result = set(x) ^ set(y)\n",
    "    result = list(raw_result)[0]\n",
    "    return result"
   ]
  },
  {
   "cell_type": "code",
   "execution_count": null,
   "id": "66b4b35c",
   "metadata": {},
   "outputs": [],
   "source": [
    "x = [13, 5, 6, 2, 5]\n",
    "y = [5, 2, 5, 13]\n",
    "\n",
    "print(solution(x, y))"
   ]
  },
  {
   "cell_type": "code",
   "execution_count": null,
   "id": "25dea7b2",
   "metadata": {},
   "outputs": [],
   "source": [
    "x = [14, 27, 1, 4, 2, 50, 3, 1] \n",
    "y = [2, 4, -4, 3, 1, 1, 14, 27, 50]\n",
    "\n",
    "print(solution(x, y))"
   ]
  },
  {
   "cell_type": "code",
   "execution_count": null,
   "id": "76aaa6c8",
   "metadata": {},
   "outputs": [],
   "source": [
    "x = [13, 5, 6, 2, 5]\n",
    "y= [5, 2, 5, 13]\n",
    "print(solution(x, y))\n",
    "#  6"
   ]
  },
  {
   "cell_type": "markdown",
   "id": "fa7d8194",
   "metadata": {},
   "source": [
    "### End."
   ]
  }
 ],
 "metadata": {
  "kernelspec": {
   "display_name": "Python 3",
   "language": "python",
   "name": "python3"
  },
  "language_info": {
   "codemirror_mode": {
    "name": "ipython",
    "version": 3
   },
   "file_extension": ".py",
   "mimetype": "text/x-python",
   "name": "python",
   "nbconvert_exporter": "python",
   "pygments_lexer": "ipython3",
   "version": "3.8.8"
  }
 },
 "nbformat": 4,
 "nbformat_minor": 5
}
