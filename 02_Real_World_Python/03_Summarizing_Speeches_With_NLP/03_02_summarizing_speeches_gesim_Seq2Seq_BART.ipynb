{
 "cells": [
  {
   "cell_type": "markdown",
   "id": "bad68b64",
   "metadata": {},
   "source": [
    "# Gensim\n",
    "**(old-deactivated, no in use anymore,  just for academics purpose)**\n",
    "\n",
    "Gensim stands for \"generate similar\" it was one of the first algorithms of summarize text. It uses a graph-based ranking algorithm called [TextRank](https://towardsdatascience.com/textrank-for-keyword-extraction-by-python-c0bae21bcec0) inspired in PageRank the original algorithm of google, used to rank web pages, with page rank the importance of a web site is determinated of how many other web sites link to it.\n",
    "\n",
    "To use this aproacht the algorithm of TextRank measure how similir are each sentences to all the others sentences.\n",
    "**The sentence that is the most like the others is considered the most important**"
   ]
  },
  {
   "cell_type": "markdown",
   "id": "757c03e7",
   "metadata": {},
   "source": [
    "\n",
    "**Goal:** Write a Python code that uses gensim to summarize a speech.\n",
    "\n",
    "In this project, we’ll use gensim to summarize Admiral William H. McRaven’s commencement address, “Make Your Bed,”"
   ]
  },
  {
   "cell_type": "code",
   "execution_count": 2,
   "id": "4cb5a950",
   "metadata": {},
   "outputs": [
    {
     "name": "stdout",
     "output_type": "stream",
     "text": [
      "\n",
      "Summary of Make Your Bed speech:\n",
      "“What starts here changes the world.” Tonight there are almost 8,000 students graduating from UT.\n",
      "Basic SEAL training is six months of long torturous runs in the soft sand, midnight swims in the cold water off San Diego, obstacles courses, unending calisthenics, days without sleep and always being cold, wet and miserable.\n",
      "So, here are the 10 lessons I learned from basic SEAL training that hopefully will be of value to you as you move forward in life.\n",
      "Every morning in basic SEAL training, my instructors, who at the time were all Vietnam veterans, would show up in my barracks room and the first thing they would inspect was your bed.\n",
      "If you want to change the world, start off by making your bed.\n",
      "During SEAL training the students are broken down into boat crews.\n",
      "Over a few weeks of difficult training my SEAL class, which started with 150 men, was down to just 35.\n",
      "Every day during training you were challenged with multiple physical events — long runs, long swims, obstacle courses, hours of calisthenics — something designed to test your mettle.\n",
      "So, if you want to change the world, start singing when you're up to your neck in mud.\n",
      "If you want to change the world don't ever, ever ring the bell.\n",
      "Moments away from starting to change the world — for the better.\n"
     ]
    }
   ],
   "source": [
    "import requests\n",
    "import bs4\n",
    "from nltk.tokenize import sent_tokenize\n",
    "from gensim.summarization import summarize\n",
    "\n",
    "url = 'https://jamesclear.com/great-speeches/make-your-bed-by-admiral-william-h-mcraven'\n",
    "\n",
    "page = requests.get(url)\n",
    "page.raise_for_status()\n",
    "soup = bs4.BeautifulSoup(page.text, 'html.parser')\n",
    "p_elems = [element.text for element in soup.find_all('p')]\n",
    "speech = ' '.join(p_elems)  # Be sure to join using a space!\n",
    "\n",
    "print(\"\\nSummary of Make Your Bed speech:\")\n",
    "print(summarize(speech, word_count=225))  # Note: This is an update to the 1st printing\n"
   ]
  },
  {
   "cell_type": "markdown",
   "id": "b3d97c32",
   "metadata": {},
   "source": [
    "**EDIT** In the new version of Gesim the summarize module is deacivate as it was creating problems in Productio"
   ]
  }
 ],
 "metadata": {
  "kernelspec": {
   "display_name": "Python 3",
   "language": "python",
   "name": "python3"
  },
  "language_info": {
   "codemirror_mode": {
    "name": "ipython",
    "version": 3
   },
   "file_extension": ".py",
   "mimetype": "text/x-python",
   "name": "python",
   "nbconvert_exporter": "python",
   "pygments_lexer": "ipython3",
   "version": "3.8.8"
  }
 },
 "nbformat": 4,
 "nbformat_minor": 5
}
