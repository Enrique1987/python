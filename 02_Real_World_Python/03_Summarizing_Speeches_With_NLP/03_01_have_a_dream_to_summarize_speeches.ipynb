{
 "cells": [
  {
   "cell_type": "markdown",
   "id": "5f65fef8",
   "metadata": {},
   "source": [
    "## Summarizing speeches with NLP: I have a dream speech\n",
    "\n",
    "Acording with International Data Corporation by 2025 we´ll be generatin 175 trillons gigabytes of digital data pro year. But most of this data-up to 95% will be unstructure, wich means it´s not organized into useful databases."
   ]
  },
  {
   "cell_type": "markdown",
   "id": "759f8b1e",
   "metadata": {},
   "source": [
    "- In this notebook we will learn to use the NLTK to geneare a summary of one of the most famouse speeches of all time \"I have a dream\".\n",
    "- After learn the basis we will use gesim to summarize speachs.\n",
    "- Finnaly we will use a word cloud to produce a fun visual summary of the most fequently used words in a novel.\n",
    "\n",
    "In data mining and ml there are two approaches to summarizing text: extraction and abstraction.\n",
    "\n",
    "`Extraction-based:`  Uses various weighting functions to rank sentences by perceveived importance. Words uses more often are considered more important. Consequently, sentences containing those words are considred more important. The overall behavior is like using a yellow highligther to manually select keywords and sentences without altering the text.\n",
    "\n",
    "This technique is good at pulling out important words and phrases.\n",
    "\n",
    "`Abstraction:` Deeper compehension of the document to capture intent and produce more humal-like paraphasing. This includes creating completly new sentences.\n",
    "\n",
    "Abstraction algorithms requred advanced and complicated deep learning methods and sophisticated language modeling.\n",
    "\n",
    "#### Pipeline"
   ]
  },
  {
   "cell_type": "markdown",
   "id": "ae4e666d",
   "metadata": {},
   "source": [
    "   1. Point  web page containing the “I Have a Dream” speech.\n",
    "   2. Loads the text as a string\n",
    "   3. Tokenizes the text into words and sentences\n",
    "   4. Removes stop words with no contextual content\n",
    "   5. Counts the remaining words\n",
    "   6. Uses the counts to rank the sentences \n",
    "   7. Displays the highest-ranking sentences\n"
   ]
  },
  {
   "cell_type": "code",
   "execution_count": 1,
   "id": "10536d17",
   "metadata": {},
   "outputs": [],
   "source": [
    "import re\n",
    "import requests\n",
    "import bs4\n",
    "from collections import Counter\n",
    "import nltk\n",
    "from nltk.corpus import stopwords"
   ]
  },
  {
   "cell_type": "markdown",
   "id": "7469b248",
   "metadata": {},
   "source": [
    "**word_tokenize**"
   ]
  },
  {
   "cell_type": "code",
   "execution_count": 2,
   "id": "497c0a76",
   "metadata": {},
   "outputs": [
    {
     "name": "stdout",
     "output_type": "stream",
     "text": [
      "['test', '-', 'Hi', 'this', 'is', 'a', 'test', 'about', 'tokenize', 'from', 'nltk', 'that', 'is', 'just', 'a', 'test', '.']\n",
      "['test', '-', 'Hi', 'this', 'is', 'a', 'test', 'about', 'tokenize', 'from', 'nltk', 'that', 'is', 'just', 'a', 'test.']\n"
     ]
    }
   ],
   "source": [
    "sentence = 'test - Hi this is a test about tokenize from nltk that is just a test.'\n",
    "test_tokenize = nltk.word_tokenize(sentence)\n",
    "print(test_tokenize)\n",
    "print(list(sentence.split(' ')))"
   ]
  },
  {
   "cell_type": "markdown",
   "id": "3aaf4ea7",
   "metadata": {},
   "source": [
    "**Tokenize vs list(split(' '))**\n",
    "- `Tokenize` performe better if there are errors in the sentences as 2 white spaces.(take care about comma, point..)\n",
    "- Use `List` had the advantage that its alredy in python so we do no need to import anything (probably the cluster we are using doesn´t have that library install)."
   ]
  },
  {
   "cell_type": "markdown",
   "id": "f49c59e9",
   "metadata": {},
   "source": [
    "**sentence_tokenize**"
   ]
  },
  {
   "cell_type": "code",
   "execution_count": 3,
   "id": "eed221ba",
   "metadata": {},
   "outputs": [],
   "source": [
    "speech_test = ''' Mr. Sherlock Holmes, who was usually very late in the mornings, save upon those not infrequent occasions when he was up all night, was seated at the breakfast table. I stood upon the hearth-rug and picked up the stick which our visitor had left behind him the night before. It was a fine, thick piece of wood, bulbous-headed, of the sort which is known as a “Penang lawyer.” Just under the head was a broad silver band nearly an inch across. “To James Mortimer, M.R.C.S., from his friends of the C.C.H.,” was engraved upon it, with the date “1884.” It was just such a stick as the old-fashioned family practitioner used to carry--dignified, solid, and reassuring.'''"
   ]
  },
  {
   "cell_type": "code",
   "execution_count": 4,
   "id": "321678d2",
   "metadata": {},
   "outputs": [
    {
     "name": "stdout",
     "output_type": "stream",
     "text": [
      " Mr. Sherlock Holmes, who was usually very late in the mornings, save upon those not infrequent occasions when he was up all night, was seated at the breakfast table.\n",
      "I stood upon the hearth-rug and picked up the stick which our visitor had left behind him the night before.\n",
      "It was a fine, thick piece of wood, bulbous-headed, of the sort which is known as a “Penang lawyer.” Just under the head was a broad silver band nearly an inch across.\n",
      "“To James Mortimer, M.R.C.S., from his friends of the C.C.H.,” was engraved upon it, with the date “1884.” It was just such a stick as the old-fashioned family practitioner used to carry--dignified, solid, and reassuring.\n"
     ]
    }
   ],
   "source": [
    "sentences_test = nltk.sent_tokenize(speech_test)\n",
    "for sentence in sentences_test:\n",
    "    print(sentence)"
   ]
  },
  {
   "cell_type": "markdown",
   "id": "32566cdf",
   "metadata": {},
   "source": [
    "**Frequency Diccionary**"
   ]
  },
  {
   "cell_type": "code",
   "execution_count": 5,
   "id": "be2afaef",
   "metadata": {},
   "outputs": [],
   "source": [
    "frek_disc = nltk.FreqDist(nltk.word_tokenize(sentence.lower()))"
   ]
  },
  {
   "cell_type": "code",
   "execution_count": 6,
   "id": "47d7d27e",
   "metadata": {},
   "outputs": [
    {
     "name": "stdout",
     "output_type": "stream",
     "text": [
      "james 1\n",
      "mortimer 1\n",
      "m.r.c.s. 1\n",
      "from 1\n",
      "his 1\n",
      "friends 1\n",
      "of 1\n",
      "c.c.h. 1\n",
      "engraved 1\n",
      "upon 1\n",
      "with 1\n",
      "date 1\n",
      "1884. 1\n",
      "just 1\n",
      "such 1\n",
      "a 1\n",
      "stick 1\n",
      "as 1\n",
      "old-fashioned 1\n",
      "family 1\n",
      "practitioner 1\n",
      "used 1\n",
      "carry 1\n",
      "-- 1\n",
      "dignified 1\n",
      "solid 1\n",
      "and 1\n",
      "reassuring 1\n",
      ". 1\n",
      "“ 2\n",
      "to 2\n",
      "” 2\n",
      "was 2\n",
      "it 2\n",
      "the 3\n",
      ", 6\n"
     ]
    }
   ],
   "source": [
    "frek_disc_ord = {k: v for k, v in sorted(frek_disc.items(), key=lambda item: item[1])}\n",
    "for key, value in frek_disc_ord.items():\n",
    "    print(key, value)"
   ]
  },
  {
   "cell_type": "markdown",
   "id": "097abdba",
   "metadata": {},
   "source": [
    "**Use of \\s+**"
   ]
  },
  {
   "cell_type": "code",
   "execution_count": 7,
   "id": "4bc8758e",
   "metadata": {},
   "outputs": [
    {
     "name": "stdout",
     "output_type": "stream",
     "text": [
      "hola juanito me gustaria invitarte a tomar una cerveza cuando podrias venir?\n"
     ]
    }
   ],
   "source": [
    "test_text = 'hola juanito    me gustaria invitarte a tomar una cerveza   cuando podrias venir?'\n",
    "speech_2 = re.sub('\\s+', ' ', test_text) \n",
    "print(speech_2)"
   ]
  },
  {
   "cell_type": "code",
   "execution_count": 8,
   "id": "fbfff892",
   "metadata": {},
   "outputs": [],
   "source": [
    "def remove_stop_words(speech_edit):\n",
    "    \"\"\"Remove stop words from string and return string.\"\"\"\n",
    "    stop_words = set(stopwords.words('english'))\n",
    "    speech_edit_no_stop = ''\n",
    "    for word in nltk.word_tokenize(speech_edit):\n",
    "        if word.lower() not in stop_words:\n",
    "            speech_edit_no_stop += word + ' '  \n",
    "    return speech_edit_no_stop"
   ]
  },
  {
   "cell_type": "code",
   "execution_count": 9,
   "id": "c5469a5d",
   "metadata": {},
   "outputs": [],
   "source": [
    "def get_word_freq(speech_edit_no_stop):\n",
    "    \"\"\"Return a dictionary of word frequency in a string.\"\"\"\n",
    "    word_freq = nltk.FreqDist(nltk.word_tokenize(speech_edit_no_stop.lower()))\n",
    "    return word_freq"
   ]
  },
  {
   "cell_type": "code",
   "execution_count": 10,
   "id": "96f7ef44",
   "metadata": {},
   "outputs": [],
   "source": [
    "def score_sentences(speech, word_freq, max_words):\n",
    "    \"\"\"Return dictionary of sentence scores based on word frequency.\"\"\"\n",
    "    sent_scores = dict()\n",
    "    sentences = nltk.sent_tokenize(speech)\n",
    "    for sent in sentences:\n",
    "        sent_scores[sent] = 0\n",
    "        words = nltk.word_tokenize(sent.lower())\n",
    "        sent_word_count = len(words)\n",
    "        if sent_word_count <= int(max_words):\n",
    "            for word in words:\n",
    "                if word in word_freq.keys():\n",
    "                    sent_scores[sent] += word_freq[word]\n",
    "            sent_scores[sent] = sent_scores[sent] / sent_word_count\n",
    "    return sent_scores\n"
   ]
  },
  {
   "cell_type": "code",
   "execution_count": 11,
   "id": "9f140354",
   "metadata": {},
   "outputs": [],
   "source": [
    "url = 'http://www.analytictech.com/mb021/mlk.htm'\n",
    "page = requests.get(url)\n",
    "page.raise_for_status()\n",
    "soup = bs4.BeautifulSoup(page.text, 'html.parser')\n",
    "p_elems = [element.text for element in soup.find_all('p')]\n",
    "speech = ' '.join(p_elems)"
   ]
  },
  {
   "cell_type": "markdown",
   "id": "4a6d8304",
   "metadata": {},
   "source": [
    "I just want to see the 10 most important phrases."
   ]
  },
  {
   "cell_type": "code",
   "execution_count": 12,
   "id": "5369e6c0",
   "metadata": {},
   "outputs": [
    {
     "name": "stdout",
     "output_type": "stream",
     "text": [
      "Enter max words per sentence for summary: 100\n",
      "Enter number of sentences for summary: 10\n"
     ]
    }
   ],
   "source": [
    "# Request input.\n",
    "while True:\n",
    "    max_words = input(\"Enter max words per sentence for summary: \")\n",
    "    num_sents = input(\"Enter number of sentences for summary: \")\n",
    "    if max_words.isdigit() and num_sents.isdigit():\n",
    "        break\n",
    "    else:\n",
    "        print(\"\\nInput must be in whole numbers.\\n\")"
   ]
  },
  {
   "cell_type": "code",
   "execution_count": 13,
   "id": "4668b2b0",
   "metadata": {},
   "outputs": [],
   "source": [
    "# Fix typos, remove extra spaces, digits, and punctuation.\n",
    "speech = speech.replace(')mowing', 'knowing')\n",
    "speech = re.sub('\\s+', ' ', speech) \n",
    "speech_edit = re.sub('[^a-zA-Z]', ' ', speech)\n",
    "speech_edit = re.sub('\\s+', ' ', speech_edit)"
   ]
  },
  {
   "cell_type": "code",
   "execution_count": 14,
   "id": "d359f82f",
   "metadata": {},
   "outputs": [],
   "source": [
    "speech_edit_no_stop = remove_stop_words(speech_edit)\n",
    "word_freq = get_word_freq(speech_edit_no_stop)\n",
    "sent_scores = score_sentences(speech, word_freq, max_words)"
   ]
  },
  {
   "cell_type": "code",
   "execution_count": 15,
   "id": "29e88560",
   "metadata": {},
   "outputs": [
    {
     "name": "stdout",
     "output_type": "stream",
     "text": [
      "\n",
      "SUMMARY:\n",
      "From every mountainside, let freedom ring.\n",
      "Let freedom ring from Lookout Mountain in Tennessee!\n",
      "Let freedom ring from every hill and molehill in Mississippi.\n",
      "Let freedom ring from the curvaceous slopes of California!\n",
      "Let freedom ring from the snow capped Rockies of Colorado!\n",
      "But one hundred years later the Negro is still not free.\n",
      "From the mighty mountains of New York, let freedom ring.\n",
      "From the prodigious hilltops of New Hampshire, let freedom ring.\n",
      "And I say to you today my friends, let freedom ring.\n",
      "I have a dream today.\n"
     ]
    }
   ],
   "source": [
    "# Print the top-ranked sentences.\n",
    "counts = Counter(sent_scores)\n",
    "summary = counts.most_common(int(num_sents))\n",
    "print(\"\\nSUMMARY:\")\n",
    "for i in summary:\n",
    "    print(i[0])"
   ]
  },
  {
   "cell_type": "markdown",
   "id": "ef842f2c",
   "metadata": {},
   "source": [
    "**End.**"
   ]
  }
 ],
 "metadata": {
  "kernelspec": {
   "display_name": "Python 3",
   "language": "python",
   "name": "python3"
  },
  "language_info": {
   "codemirror_mode": {
    "name": "ipython",
    "version": 3
   },
   "file_extension": ".py",
   "mimetype": "text/x-python",
   "name": "python",
   "nbconvert_exporter": "python",
   "pygments_lexer": "ipython3",
   "version": "3.8.8"
  }
 },
 "nbformat": 4,
 "nbformat_minor": 5
}
