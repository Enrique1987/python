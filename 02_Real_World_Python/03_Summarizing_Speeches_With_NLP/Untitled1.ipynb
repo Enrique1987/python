{
 "cells": [
  {
   "cell_type": "code",
   "execution_count": 2,
   "id": "3c1be016",
   "metadata": {},
   "outputs": [],
   "source": [
    "import re"
   ]
  },
  {
   "cell_type": "code",
   "execution_count": 5,
   "id": "3d3d1169",
   "metadata": {},
   "outputs": [
    {
     "name": "stdout",
     "output_type": "stream",
     "text": [
      " ,m.doal_tix_airl_cd ,CAST(extract(year FROM m.seg_dep_dt_local) AS INTEGER ) AS seg_dep_y \n"
     ]
    }
   ],
   "source": [
    "test_text = \"\"\"\n",
    "    ,m.doal_tix_airl_cd\n",
    "    ,CAST(extract(year   FROM m.seg_dep_dt_local)   AS INTEGER ) AS seg_dep_y\n",
    "\"\"\"\n",
    "speech_2 = re.sub('\\s+', ' ', test_text) \n",
    "print(speech_2)"
   ]
  },
  {
   "cell_type": "code",
   "execution_count": null,
   "id": "b2210354",
   "metadata": {},
   "outputs": [],
   "source": []
  },
  {
   "cell_type": "code",
   "execution_count": null,
   "id": "d6503cc8",
   "metadata": {},
   "outputs": [],
   "source": []
  }
 ],
 "metadata": {
  "kernelspec": {
   "display_name": "Python 3",
   "language": "python",
   "name": "python3"
  },
  "language_info": {
   "codemirror_mode": {
    "name": "ipython",
    "version": 3
   },
   "file_extension": ".py",
   "mimetype": "text/x-python",
   "name": "python",
   "nbconvert_exporter": "python",
   "pygments_lexer": "ipython3",
   "version": "3.8.8"
  }
 },
 "nbformat": 4,
 "nbformat_minor": 5
}
