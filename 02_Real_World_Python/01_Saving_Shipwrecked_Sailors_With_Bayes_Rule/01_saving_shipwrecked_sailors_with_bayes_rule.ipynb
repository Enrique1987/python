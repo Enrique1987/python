{
 "cells": [
  {
   "cell_type": "markdown",
   "id": "ee08b888",
   "metadata": {},
   "source": [
    "## Bayes Rule\n",
    "\n",
    "Bayes’ rule shows us the mathematically correct way to incor\u0002porate new data and recalculate probability estimates.It penetrates it penetrates almost all human endeavors.\n",
    "\n",
    "$P(A|B) = \\frac {P(B|A)(P(A))}{P(B)}$. \n",
    "\n",
    "First things first. Understand the Bayes rule.\n"
   ]
  },
  {
   "cell_type": "code",
   "execution_count": null,
   "id": "c9bf5ac6",
   "metadata": {},
   "outputs": [],
   "source": []
  }
 ],
 "metadata": {
  "kernelspec": {
   "display_name": "Python 3",
   "language": "python",
   "name": "python3"
  },
  "language_info": {
   "codemirror_mode": {
    "name": "ipython",
    "version": 3
   },
   "file_extension": ".py",
   "mimetype": "text/x-python",
   "name": "python",
   "nbconvert_exporter": "python",
   "pygments_lexer": "ipython3",
   "version": "3.8.8"
  }
 },
 "nbformat": 4,
 "nbformat_minor": 5
}
